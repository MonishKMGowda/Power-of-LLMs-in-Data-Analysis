{
 "cells": [
  {
   "cell_type": "markdown",
   "id": "c9cee997",
   "metadata": {},
   "source": [
    "# Unleashing the Power of LLMs in Data Analysis: A New Era of Insights\n",
    "# EDA\n",
    "\n",
    "- Author: **Monish K M**\n",
    "- https://github.com/MonishKMGowda/Power-of-LLMs-in-Data-Analysis\n",
    "\n",
    "## Introduction\n",
    "\n",
    "In this, we can explore how to leverage LLM (Large Language Models) to do Exploratory Data Analysis (EDA), which is an important step in developing machine learning models.\n",
    "\n",
    "\n",
    "## Dataset:\n",
    "\n",
    "This dataset contains information on customer orders for various products, primarily motorcycles, from a fictional company. Each record in the dataset represents a single order, providing comprehensive details about the order and the customer. The dataset includes unique identifiers for orders and products, customer contact information, geographical location, and details about the sales territory. Additionally, it captures financial aspects such as the Manufacturer's Suggested Retail Price (MSRP) and the size of the deal, categorized as Small, Medium, or Large. This dataset can be used for analyzing customer demographics, sales trends, and geographical distribution of orders.\n",
    "\n",
    "- ORDERNUMBER: Unique identifier for each order\n",
    "- PRODUCTLINE: Category of the product (e.g., Motorcycles)\n",
    "- MSRP: Manufacturer's Suggested Retail Price\n",
    "- PRODUCTCODE: Unique code for each product\n",
    "- CUSTOMERNAME: Name of the customer who placed the order\n",
    "- PHONE: Customer's phone number"
   ]
  },
  {
   "cell_type": "markdown",
   "id": "6e53b297",
   "metadata": {},
   "source": [
    "### Import required libraries"
   ]
  },
  {
   "cell_type": "code",
   "execution_count": 10,
   "id": "95733080",
   "metadata": {},
   "outputs": [],
   "source": [
    "import pandas as pd\n",
    "import matplotlib.pyplot as plt\n",
    "import seaborn as sns\n",
    "import requests\n",
    "from io import StringIO\n",
    "import json\n",
    "import io"
   ]
  },
  {
   "cell_type": "markdown",
   "id": "52eb3e75",
   "metadata": {},
   "source": [
    "### Define the LLM Model(ask_llm) with Model ID and Required keys"
   ]
  },
  {
   "cell_type": "raw",
   "id": "603c52b9",
   "metadata": {},
   "source": [
    "#Confidential"
   ]
  },
  {
   "cell_type": "markdown",
   "id": "d89aa575",
   "metadata": {},
   "source": [
    "### Read the dataset "
   ]
  },
  {
   "cell_type": "code",
   "execution_count": 26,
   "id": "80d472df",
   "metadata": {},
   "outputs": [
    {
     "name": "stdout",
     "output_type": "stream",
     "text": [
      "Done Reading File\n"
     ]
    }
   ],
   "source": [
    "# GitHub CSV file URL\n",
    "github_url = 'https://raw.githubusercontent.com/MonishKMGowda/Power-of-LLMs-in-Data-Analysis/main/customer.csv'\n",
    "\n",
    "# Fetch the content from URL\n",
    "response = requests.get(github_url)\n",
    "\n",
    "# Check if request was successful\n",
    "if response.status_code == 200:\n",
    "    # Read CSV data\n",
    "    csv_data = StringIO(response.text)\n",
    "    df = pd.read_csv(csv_data, index_col=0)\n",
    "    print(\"Done Reading File\")\n",
    "else:\n",
    "    print(f\"Failed to fetch data from {github_url}, status code: {response.status_code}\")"
   ]
  },
  {
   "cell_type": "markdown",
   "id": "f7c5ab04",
   "metadata": {},
   "source": [
    "## Getting Metadata"
   ]
  },
  {
   "cell_type": "markdown",
   "id": "5c169095",
   "metadata": {},
   "source": [
    "### How many rows and columns?"
   ]
  },
  {
   "cell_type": "code",
   "execution_count": 64,
   "id": "d9ebc4dc",
   "metadata": {},
   "outputs": [
    {
     "name": "stdout",
     "output_type": "stream",
     "text": [
      "2823\n"
     ]
    }
   ],
   "source": [
    "ask_llm(\"how many records are there?\")"
   ]
  },
  {
   "cell_type": "markdown",
   "id": "96214000",
   "metadata": {},
   "source": [
    "#### Validate with our code"
   ]
  },
  {
   "cell_type": "code",
   "execution_count": 35,
   "id": "96b637df",
   "metadata": {},
   "outputs": [
    {
     "data": {
      "text/plain": [
       "(2823, 15)"
      ]
     },
     "execution_count": 35,
     "metadata": {},
     "output_type": "execute_result"
    }
   ],
   "source": [
    "#checking\n",
    "df.shape"
   ]
  },
  {
   "cell_type": "code",
   "execution_count": 65,
   "id": "4abfef13",
   "metadata": {},
   "outputs": [
    {
     "name": "stdout",
     "output_type": "stream",
     "text": [
      "There are 2823 rows and 15 columns in the DataFrame.\n"
     ]
    }
   ],
   "source": [
    "ask_llm(\"how many rows and how many columns are there?\")"
   ]
  },
  {
   "cell_type": "markdown",
   "id": "6a91a852",
   "metadata": {},
   "source": [
    "### Looking at few records"
   ]
  },
  {
   "cell_type": "code",
   "execution_count": 66,
   "id": "a52d9cff",
   "metadata": {},
   "outputs": [
    {
     "name": "stdout",
     "output_type": "stream",
     "text": [
      "                  PRODUCTLINE  MSRP PRODUCTCODE                  CUSTOMERNAME  \\\n",
      "ORDERNUMBER                                                                     \n",
      "10278            Classic Cars   141    S18_1129            Signal Gift Stores   \n",
      "10330             Motorcycles    69    S24_2360               Cruz & Sons Co.   \n",
      "10303            Vintage Cars    60    S18_2248    Iberia Gift Imports, Corp.   \n",
      "10305        Trucks and Buses   127    S24_2300          Marta's Replicas Co.   \n",
      "10382            Classic Cars   207    S12_1108  Mini Gifts Distributors Ltd.   \n",
      "\n",
      "                      PHONE                                ADDRESSLINE1  \\\n",
      "ORDERNUMBER                                                               \n",
      "10278            7025551838                             8489 Strong St.   \n",
      "10330        +63 2 555 3587  15 McCallum Street - NatWest Center #13-03   \n",
      "10303        (95) 555 82 82                               C/ Romero, 33   \n",
      "10305            6175558555                         39323 Spinnaker Dr.   \n",
      "10382            4155551450                             5677 Strong St.   \n",
      "\n",
      "            ADDRESSLINE2         CITY STATE POSTALCODE      COUNTRY TERRITORY  \\\n",
      "ORDERNUMBER                                                                     \n",
      "10278                NaN    Las Vegas    NV      83030          USA       NaN   \n",
      "10330                NaN  Makati City   NaN    1227 MM  Philippines     Japan   \n",
      "10303                NaN      Sevilla   NaN      41101        Spain      EMEA   \n",
      "10305                NaN    Cambridge    MA      51247          USA       NaN   \n",
      "10382                NaN   San Rafael    CA      97562          USA       NaN   \n",
      "\n",
      "            CONTACTLASTNAME CONTACTFIRSTNAME DEALSIZE  \n",
      "ORDERNUMBER                                            \n",
      "10278                  King              Sue   Medium  \n",
      "10330                  Cruz           Arnold   Medium  \n",
      "10303                  Roel       Jose Pedro    Small  \n",
      "10305             Hernandez            Marta   Medium  \n",
      "10382                Nelson          Valarie   Medium  \n"
     ]
    }
   ],
   "source": [
    "ask_llm(\"give 5 sample records and display\")"
   ]
  },
  {
   "cell_type": "markdown",
   "id": "33ef8bcb",
   "metadata": {},
   "source": [
    "### Finding missing values"
   ]
  },
  {
   "cell_type": "code",
   "execution_count": 70,
   "id": "a28770a0",
   "metadata": {},
   "outputs": [
    {
     "name": "stdout",
     "output_type": "stream",
     "text": [
      "ADDRESSLINE2: 2521 missing values\n",
      "STATE: 1486 missing values\n",
      "POSTALCODE: 76 missing values\n",
      "TERRITORY: 1074 missing values\n"
     ]
    }
   ],
   "source": [
    "ask_llm(\"Are there any missing values in the dataset? , if yes give me the column names and count of missing values\")"
   ]
  },
  {
   "cell_type": "markdown",
   "id": "0a1548f4",
   "metadata": {},
   "source": [
    "### Finding Frequencies of Variables"
   ]
  },
  {
   "cell_type": "code",
   "execution_count": 71,
   "id": "3907520e",
   "metadata": {},
   "outputs": [
    {
     "name": "stdout",
     "output_type": "stream",
     "text": [
      "['NY' nan 'CA' 'Victoria' 'NJ' 'CT' 'MA' 'PA' 'NSW' 'Queensland' 'BC'\n",
      " 'Tokyo' 'NH' 'Quebec' 'Osaka' 'Isle of Wight' 'NV']\n"
     ]
    }
   ],
   "source": [
    "ask_llm('what are the unique values in the column State?')"
   ]
  },
  {
   "cell_type": "code",
   "execution_count": 73,
   "id": "449501ac",
   "metadata": {},
   "outputs": [
    {
     "name": "stdout",
     "output_type": "stream",
     "text": [
      "COUNTRY\n",
      "USA            1004\n",
      "Spain           342\n",
      "France          314\n",
      "Australia       185\n",
      "UK              144\n",
      "Italy           113\n",
      "Finland          92\n",
      "Norway           85\n",
      "Singapore        79\n",
      "Canada           70\n",
      "Denmark          63\n",
      "Germany          62\n",
      "Sweden           57\n",
      "Austria          55\n",
      "Japan            52\n",
      "Belgium          33\n",
      "Switzerland      31\n",
      "Philippines      26\n",
      "Ireland          16\n",
      "Name: count, dtype: int64\n"
     ]
    }
   ],
   "source": [
    "ask_llm('What are the frequencies of the unique values in the column Country?')"
   ]
  },
  {
   "cell_type": "code",
   "execution_count": 74,
   "id": "858248a9",
   "metadata": {},
   "outputs": [
    {
     "data": {
      "text/plain": [
       "COUNTRY\n",
       "USA            1004\n",
       "Spain           342\n",
       "France          314\n",
       "Australia       185\n",
       "UK              144\n",
       "Italy           113\n",
       "Finland          92\n",
       "Norway           85\n",
       "Singapore        79\n",
       "Canada           70\n",
       "Denmark          63\n",
       "Germany          62\n",
       "Sweden           57\n",
       "Austria          55\n",
       "Japan            52\n",
       "Belgium          33\n",
       "Switzerland      31\n",
       "Philippines      26\n",
       "Ireland          16\n",
       "Name: count, dtype: int64"
      ]
     },
     "execution_count": 74,
     "metadata": {},
     "output_type": "execute_result"
    }
   ],
   "source": [
    "#Checking\n",
    "df.COUNTRY.value_counts()"
   ]
  },
  {
   "cell_type": "code",
   "execution_count": 75,
   "id": "147f7143",
   "metadata": {},
   "outputs": [
    {
     "name": "stdout",
     "output_type": "stream",
     "text": [
      "1268\n"
     ]
    }
   ],
   "source": [
    "ask_llm('''if the value in MSRP column is greater than 100, then it indicate the order is in priority. \n",
    "Then how many orders are in priority?''')"
   ]
  },
  {
   "cell_type": "code",
   "execution_count": 76,
   "id": "cab2971c",
   "metadata": {},
   "outputs": [
    {
     "data": {
      "text/plain": [
       "1268"
      ]
     },
     "execution_count": 76,
     "metadata": {},
     "output_type": "execute_result"
    }
   ],
   "source": [
    "#checking\n",
    "df[df['MSRP'] > 100].shape[0]"
   ]
  },
  {
   "cell_type": "markdown",
   "id": "fee0dae1",
   "metadata": {},
   "source": [
    "### Customer Analysis"
   ]
  },
  {
   "cell_type": "code",
   "execution_count": 77,
   "id": "37320538",
   "metadata": {},
   "outputs": [
    {
     "name": "stdout",
     "output_type": "stream",
     "text": [
      "CUSTOMERNAME\n",
      "Euro Shopping Channel           259\n",
      "Mini Gifts Distributors Ltd.    180\n",
      "Australian Collectors, Co.       55\n",
      "La Rochelle Gifts                53\n",
      "AV Stores, Co.                   51\n",
      "Name: count, dtype: int64\n"
     ]
    }
   ],
   "source": [
    "ask_llm('What are the top 5 CUSTOMERNAMEs with the highest number of orders?')"
   ]
  },
  {
   "cell_type": "code",
   "execution_count": 78,
   "id": "03adef8b",
   "metadata": {
    "scrolled": true
   },
   "outputs": [
    {
     "name": "stdout",
     "output_type": "stream",
     "text": [
      "The most frequent CITY for orders is Madrid\n"
     ]
    }
   ],
   "source": [
    "ask_llm('What is the most frequent CITY for orders?')"
   ]
  },
  {
   "cell_type": "code",
   "execution_count": 80,
   "id": "94ba85a5",
   "metadata": {},
   "outputs": [
    {
     "data": {
      "text/plain": [
       "'Madrid'"
      ]
     },
     "execution_count": 80,
     "metadata": {},
     "output_type": "execute_result"
    }
   ],
   "source": [
    "#checking\n",
    "df['CITY'].value_counts().idxmax()"
   ]
  },
  {
   "cell_type": "code",
   "execution_count": 79,
   "id": "727709e3",
   "metadata": {},
   "outputs": [
    {
     "name": "stdout",
     "output_type": "stream",
     "text": [
      "TERRITORY\n",
      "APAC      99.515837\n",
      "EMEA     100.363895\n",
      "Japan    104.421488\n",
      "Name: MSRP, dtype: float64\n"
     ]
    }
   ],
   "source": [
    "ask_llm('What is the average MSRP for customers in different TERRITORY regions?')"
   ]
  },
  {
   "cell_type": "code",
   "execution_count": 81,
   "id": "1c882eec",
   "metadata": {},
   "outputs": [
    {
     "data": {
      "text/plain": [
       "TERRITORY\n",
       "APAC      99.515837\n",
       "EMEA     100.363895\n",
       "Japan    104.421488\n",
       "Name: MSRP, dtype: float64"
      ]
     },
     "execution_count": 81,
     "metadata": {},
     "output_type": "execute_result"
    }
   ],
   "source": [
    "#checking\n",
    "df.groupby('TERRITORY')['MSRP'].mean()"
   ]
  },
  {
   "cell_type": "markdown",
   "id": "0551895a",
   "metadata": {},
   "source": [
    "### Geographical Analysis"
   ]
  },
  {
   "cell_type": "code",
   "execution_count": 82,
   "id": "7def430e",
   "metadata": {},
   "outputs": [
    {
     "name": "stdout",
     "output_type": "stream",
     "text": [
      "             CITY STATE  ORDER_COUNT\n",
      "0       Allentown    PA           31\n",
      "1          Boston    MA           44\n",
      "2      Brickhaven    MA           47\n",
      "3     Bridgewater    CT           25\n",
      "4        Brisbane    CA           15\n",
      "5         Burbank    CA           13\n",
      "6      Burlingame    CA           34\n",
      "7       Cambridge    MA           38\n",
      "8        Glendale    CA            3\n",
      "9        Glendale    CT           19\n",
      "10      Las Vegas    NV           29\n",
      "11    Los Angeles    CA           14\n",
      "12            NYC    NY          152\n",
      "13         Nashua    NH           34\n",
      "14    New Bedford    MA           61\n",
      "15      New Haven    CT           17\n",
      "16         Newark    NJ           21\n",
      "17       Pasadena    CA           30\n",
      "18   Philadelphia    PA           44\n",
      "19      San Diego    CA           25\n",
      "20  San Francisco    CA           62\n",
      "21       San Jose    CA           40\n",
      "22     San Rafael    CA          180\n",
      "23   White Plains    NY           26\n"
     ]
    }
   ],
   "source": [
    "ask_llm('How many orders are there per CITY and STATE in the USA?')"
   ]
  },
  {
   "cell_type": "markdown",
   "id": "cae087c0",
   "metadata": {},
   "source": [
    "## Univariate Analysis\n",
    "\n",
    "Univariate analysis in exploratory data analysis focuses on analyzing a single variable at a time. It involves examining the distribution, central tendency, dispersion, and other statistical properties of a single variable without considering its relationship with other variables. The main objective of univariate analysis is to understand the characteristics and patterns of individual variables in isolation."
   ]
  },
  {
   "cell_type": "code",
   "execution_count": 92,
   "id": "efcb3ed1",
   "metadata": {},
   "outputs": [
    {
     "name": "stdout",
     "output_type": "stream",
     "text": [
      "count    2823.000000\n",
      "mean      100.715551\n",
      "std        40.187912\n",
      "min        33.000000\n",
      "25%        68.000000\n",
      "50%        99.000000\n",
      "75%       124.000000\n",
      "max       214.000000\n",
      "Name: MSRP, dtype: float64\n"
     ]
    }
   ],
   "source": [
    "ask_llm(\"What is the distribution of MSRP (Manufacturer's Suggested Retail Price) across all products?\")"
   ]
  },
  {
   "cell_type": "code",
   "execution_count": 93,
   "id": "18e40ad1",
   "metadata": {},
   "outputs": [
    {
     "name": "stdout",
     "output_type": "stream",
     "text": [
      "DEALSIZE\n",
      "Medium    1384\n",
      "Small     1282\n",
      "Large      157\n",
      "Name: count, dtype: int64\n"
     ]
    }
   ],
   "source": [
    "ask_llm(\"Can you describe the deal sizes represented in the dataset and their frequency?\")"
   ]
  },
  {
   "cell_type": "code",
   "execution_count": 94,
   "id": "d9b35a65",
   "metadata": {},
   "outputs": [
    {
     "name": "stdout",
     "output_type": "stream",
     "text": [
      "PRODUCTCODE\n",
      "S18_3232    52\n",
      "S10_1949    28\n",
      "S24_1444    28\n",
      "S10_4962    28\n",
      "S24_2840    28\n",
      "            ..\n",
      "S18_1749    22\n",
      "S24_2887    22\n",
      "S24_3969    22\n",
      "S18_4409    22\n",
      "S18_4933    22\n",
      "Name: count, Length: 109, dtype: int64\n"
     ]
    }
   ],
   "source": [
    "ask_llm(\"What are the most common product codes in the dataset, and how frequently do they appear?\")"
   ]
  },
  {
   "cell_type": "markdown",
   "id": "11b1733a",
   "metadata": {},
   "source": [
    "### Generating a Plots"
   ]
  },
  {
   "cell_type": "code",
   "execution_count": 95,
   "id": "5be27858",
   "metadata": {},
   "outputs": [
    {
     "data": {
      "image/png": "[encoded data removed]",
      "text/plain": [
       "<Figure size 640x480 with 1 Axes>"
      ]
     },
     "metadata": {},
     "output_type": "display_data"
    },
    {
     "name": "stdout",
     "output_type": "stream",
     "text": [
      "The boxplot shows the variation of MSRP across different deal sizes (Small, Medium, Large).\n"
     ]
    }
   ],
   "source": [
    "ask_llm(\"How does the MSRP vary across different deal sizes (Small, Medium, Large)? give boxplot\")"
   ]
  },
  {
   "cell_type": "code",
   "execution_count": 99,
   "id": "b391e3b3",
   "metadata": {},
   "outputs": [
    {
     "data": {
      "image/png": "[encoded data removed]",
      "text/plain": [
       "<Figure size 1000x600 with 1 Axes>"
      ]
     },
     "metadata": {},
     "output_type": "display_data"
    },
    {
     "name": "stdout",
     "output_type": "stream",
     "text": [
      "The distribution of MSRP is shown in the histogram.\n"
     ]
    }
   ],
   "source": [
    "ask_llm(\"What is the distribution of MSRP (Manufacturer's Suggested Retail Price)? give histogram\")"
   ]
  },
  {
   "cell_type": "markdown",
   "id": "9b4cc711",
   "metadata": {},
   "source": [
    "### Finding outliers"
   ]
  },
  {
   "cell_type": "code",
   "execution_count": 102,
   "id": "f63a26dd",
   "metadata": {},
   "outputs": [
    {
     "data": {
      "image/png": "[encoded data removed]",
      "text/plain": [
       "<Figure size 1000x600 with 1 Axes>"
      ]
     },
     "metadata": {},
     "output_type": "display_data"
    },
    {
     "name": "stdout",
     "output_type": "stream",
     "text": [
      "Minimum MSRP: 33\n",
      "Maximum MSRP: 214\n",
      "\n",
      "Potential outliers in MSRP:\n",
      "             MSRP                    CUSTOMERNAME\n",
      "ORDERNUMBER                                      \n",
      "10103         214              Baane Mini Imports\n",
      "10112         214        Volvo Model Replicas, Co\n",
      "10126         214      Corrida Auto Replicas, Ltd\n",
      "10140         214            Technics Stores Inc.\n",
      "10150         214         Dragon Souveniers, Ltd.\n",
      "10163         214            Classic Legends Inc.\n",
      "10174         214     Australian Gift Network, Co\n",
      "10183         214         Classic Gift Ideas, Inc\n",
      "10194         214          Saveley & Henriot, Co.\n",
      "10206         214  Canadian Gift Exchange Network\n",
      "10215         214     West Coast Collectables Co.\n",
      "10228         214      Cambridge Collectables Co.\n",
      "10245         214                Super Scale Inc.\n",
      "10258         214         Tokyo Collectables, Ltd\n",
      "10270         214       Souveniers And Things Co.\n",
      "10280         214              Amica Models & Co.\n",
      "10291         214         Scandinavian Gift Ideas\n",
      "10304         214              Auto Assoc. & Cie.\n",
      "10312         214    Mini Gifts Distributors Ltd.\n",
      "10322         214    Online Diecast Creations Co.\n",
      "10333         214                 Mini Wheels Co.\n",
      "10347         214      Australian Collectors, Co.\n",
      "10357         214    Mini Gifts Distributors Ltd.\n",
      "10369         214      Collectables For Less Inc.\n",
      "10381         214        Corporate Gift Ideas Co.\n",
      "10391         214         Anna's Decorations, Ltd\n",
      "10411         214    Quebec Home Shopping Network\n",
      "10424         214           Euro Shopping Channel\n"
     ]
    }
   ],
   "source": [
    "ask_llm(\"Can you identify any outliers in the distribution of MSRP across India? Visualize using a boxplot.\")"
   ]
  },
  {
   "cell_type": "markdown",
   "id": "e47edabc",
   "metadata": {},
   "source": [
    "## Things to try:\n",
    "\n",
    "1. What is the probability that a person with no family history will suffer from chd?\n",
    "2. Find out outliers in terms of alcohol consumption for those who are suffering fro chd using both standard deviation and box plot approach.\n",
    "3. Create a scatter plot between age and ldl\n",
    "4. Find out the correlation between age and sbp for those suffering from chd.\n",
    "5. Create a heatmap showing correlation among a set of variables with divergent colors for positive and negative correlations. "
   ]
  }
 ],
 "metadata": {
  "kernelspec": {
   "display_name": "Python 3 (ipykernel)",
   "language": "python",
   "name": "python3"
  },
  "language_info": {
   "codemirror_mode": {
    "name": "ipython",
    "version": 3
   },
   "file_extension": ".py",
   "mimetype": "text/x-python",
   "name": "python",
   "nbconvert_exporter": "python",
   "pygments_lexer": "ipython3",
   "version": "3.11.5"
  }
 },
 "nbformat": 4,
 "nbformat_minor": 5
}
